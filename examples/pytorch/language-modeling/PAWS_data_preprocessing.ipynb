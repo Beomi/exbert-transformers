{
 "cells": [
  {
   "cell_type": "code",
   "execution_count": 1,
   "metadata": {},
   "outputs": [],
   "source": [
    "import pandas as pd"
   ]
  },
  {
   "cell_type": "code",
   "execution_count": 14,
   "metadata": {},
   "outputs": [
    {
     "name": "stderr",
     "output_type": "stream",
     "text": [
      "b'Skipping line 1250: expected 4 fields, saw 5\\nSkipping line 1680: expected 4 fields, saw 5\\nSkipping line 2165: expected 4 fields, saw 5\\nSkipping line 7642: expected 4 fields, saw 5\\nSkipping line 15126: expected 4 fields, saw 5\\nSkipping line 18437: expected 4 fields, saw 5\\nSkipping line 25868: expected 4 fields, saw 5\\nSkipping line 29464: expected 4 fields, saw 5\\nSkipping line 37344: expected 4 fields, saw 5\\nSkipping line 38769: expected 4 fields, saw 5\\n'\n"
     ]
    }
   ],
   "source": [
    "df = pd.read_csv('./paws_train.tsv', sep='\\t', encoding='utf-8', error_bad_lines=False).dropna()"
   ]
  },
  {
   "cell_type": "code",
   "execution_count": 15,
   "metadata": {},
   "outputs": [],
   "source": [
    "all_list = df['sentence1'].to_list() + df['sentence2'].to_list()"
   ]
  },
  {
   "cell_type": "code",
   "execution_count": 16,
   "metadata": {},
   "outputs": [
    {
     "data": {
      "text/plain": [
       "['셰인 스톡턴 (1974 년 3 월 18 일 텍사스 브레 켄 리지에서 태어남)은 미국의 컨트리 뮤직 아티스트로 켈리 셰인 브룩스 (Kelly Shane Brooks)라는 이름으로 녹음되었습니다.',\n",
       " 'Incepto ne Desistam이라는 학교의 좌우명은 \"나는 내 목적에서\"또는 그 이상 구어체로 쉬지 않을 수 있는가? \"',\n",
       " '따라서 \"Opson\"은 한국 요리의 Banchan이고 일본 요리의 Okazu와 동일합니다.',\n",
       " 'Driftless Area는 미네소타 리차드 J. 도레 러 (Richard J. Dorer) 추수 감사절 경목 숲에서 현재 및 전 산림의 보호 구역입니다.',\n",
       " '그는 1936 년 6 월 18 일 플로리다 주 멜버른에서 사망하여 플로리다 주 데이토나 비치에 묻혔다.',\n",
       " '어떤 경우에는 통증, 또는 적어도 불편 함이 굴욕에 이차적이거나 중요하지 않습니다.',\n",
       " '2010 년 10 월 13 일 Atlanta Braves는 Bobby Cox가 Braves의 오랜 감독 인 Fredi González를 2011 년 팀 매니저로 대체 할 것이라고 발표했습니다.',\n",
       " '일본에서만 흰색 버전이 출시되었지만 전세계에서 표준 검정으로 제공됩니다.',\n",
       " '버크셔 21 대 15, 옥스퍼드 셔 21 대 32, 버킹엄 셔 0 대 36을 제치고 8 강에서 글로스 터셔에 58 대 10으로 패했다.',\n",
       " '딸, Lester Brickman은 1981 년 3 월 5 일 Miriam과 Frances Anna Brickman에게 태어났다.',\n",
       " 'Jalari는 인도 Hamirpur의 Nadaun에있는 마을 중 하나입니다.',\n",
       " '그것은 진화론 적 지형학의 연구를위한 초기의 중요한 모델 시스템 인 유럽 생물학 분야에서 잘 연구 된 유기체입니다.',\n",
       " '의학 생리학에 관한 연구는 1950 년 델리 국방 과학 연구소의 소수 과학자와 군대 생리 학자를 통해 시작되었습니다.',\n",
       " \"그의 책 중 일부는``기독교 개혁 운동에 대한 유대인의 영향 '(1924)과'유대인, 신앙과 삶 '(1957)이다.\",\n",
       " 'Fluter는 키프로스로 돌아가지만, 사람들과 클레오 파트라는 이집트의 상실과 프톨레마이오스의 죽음을 책임지게됩니다.',\n",
       " '고드윈 (Godwin)은 11 세기 전반기에 Wattex 백작 인 Gattie가 소유하고 있었는데, 그 후 Sands라는 이름이 붙여졌습니다.',\n",
       " '프랭크는 애슐리 자신을보고 싶어서 아이들을 동반 할 것을 제안했습니다.',\n",
       " 'Scurria viridula는 바다 달팽이의 한 종족이며 진정한 수달, 진흙 유채과의 가족 중의 하나 인 Lottiidae의 진정한 복족류 연체 동물입니다.',\n",
       " '따뜻한 지표수와 차가운 더 깊은 바다가 결합되어 생물 다양성이 높습니다.',\n",
       " '스코틀랜드 출생. 부모님이 호주로 데려왔다. 그의 아버지 John Firth Wald는 애들레이드에서 보석 및 시계 제조 사업을 운영했습니다.',\n",
       " 'Scott Wells는 또한 Sherman Howard의 Lex Luthor로 대체되었습니다.',\n",
       " '니나는 레이와 함께 광경을보고 결혼하고 싶어하므로 아버지에게 허가를 요청합니다.',\n",
       " 'Heike Brandt는 베를린에서 태어 났으며 Jever에서 자랐습니다.',\n",
       " '새로운 창조적 인 고소에 영감을 불어 넣은 대체 기타리스트 인 Enzo에서 그녀는 새로운 희망과 우정을 찾습니다.',\n",
       " '1984 년 4 월 16 일 - 현재 현대 음악의 25 %를 차지하는 1960 년대와 1970 년대의 성인 WCGY가되었습니다.',\n",
       " '그것은 인구 조사에 대한 인구 조사 - 지정 된 장소 (CDP)로 묘사되었다. 당시 인구는 8,487 명이었다.',\n",
       " '존스는 나중에 일리노이 주 세무 국장과 시카고의 라디오 방송국 WGRT (WJPC) 총책임자로 재직했습니다.',\n",
       " '66 세에 Terada는 Takesaki가 은퇴 한 날짜에 도달 한 2014 년 4 월 1 일 Hironobu Takesaki를 대법원장으로 대체했습니다.',\n",
       " 'Yauli는 페루의 Huancavelica 주에서 19 개의 지구 중 하나입니다.',\n",
       " '보트의 평균 핸디캡은 183, 198은 최고, 180은 최저입니다.',\n",
       " 'Bomb the Bass - 당신의 영혼이 분실 되었습니까?',\n",
       " '노래는 Powderfinger 리드 싱어 인 John Collins가 작성했으며 베이시스트 Bernard Fanning의 영향을 받았습니다.',\n",
       " '싸우는 동안, Steedman은 그의 말이 그 밑에서 상처를 입을 때 총에 맞아 죽었습니다.',\n",
       " '12 월 10 일, 그녀는 Hampton Roads에서 남쪽으로 카리브해 - 멕시코 만 지역으로 돌아 왔습니다.',\n",
       " 'Sambora와 리드 싱어 인 Jon Bon Jovi는 밴드의 주요 작곡 단위를 구성했습니다.',\n",
       " '다음 이야기는 Sheelabathi가 모든 문제를 극복하는 방법을 계속 말합니다.',\n",
       " 'Penchala 강은 Sungai Penchala에서 말레이시아의 Selangor 근처의 Klang 강까지 이어지는 Petaling Jaya의 강입니다.',\n",
       " '노스 달튼 파크 (North Dalton Park)는 호주 뉴 사우스 웨일즈의 울릉공 (Wollongong) 북쪽 교외의 파이어 니어로드 (Pioneer Rd)에 자리 잡고 있습니다.',\n",
       " '그는 포드 고리 차 (현재 티토 그라드)에서 태어나 음악가들로 자랐습니다.',\n",
       " '그들은 프랑스 르네상스 텍스트를 번역했으며 서사와 성격 묘사, 풍자와 사랑에 대한 명상을 위해 소네트와 단편 소설을 포함한 핵심 양식을 사용하여시를 제작했습니다.',\n",
       " '2009 년 1 월 16 일 Hollins는 Matt Carroll과 Dallas Mavericks의 대가로 DeSagana Diop과 거래되었습니다.',\n",
       " '그는 1850 년 8 월 16 일 New City (현재 Clarkstown), 뉴욕시에서 사망했습니다.',\n",
       " '나코 다르 (Nakodar) 란 펀 자브 (Punjab) 인도의 잘란 다르 (Jalandhar)시의 나코 다르 (Nakodar)에있는 작은 마을입니다.',\n",
       " '짐피 (Gympie) 골드 필드에서 행운을 터뜨린 그는 1868 년 투 움바 (Toowoomba)로 이주했습니다.',\n",
       " '그는 1821 년에 웨스트 민스터에서 죽었고, 조지 제르맹 (George Germain), 자크 빌 자매 (Sackville)의 딸 엘리자베스 (Elizabeth)와 결혼했으며, 아들 찰스 존 (Charles John)을 낳았다.',\n",
       " '허리케인으로 한 명을 직접 살해했고, 간접적으로 두 명을 살해했습니다.',\n",
       " 'Restovich는 2011 년 7 월 27 일 애리조나 다이아몬드 백스에서 시카고 화이트 삭스로 트레이드되었다.',\n",
       " '1964 년에 회사는 S. Pearson과 Son이되었고 후에 Royal Doulton이 인수 한 Allied English Potteries Group의 일원이었습니다.',\n",
       " 'Bayswater는 Garclatt 도로 교량 및 백조 강 (Tonkin 주요 도로)에 의하여 Redcliffe 교량의 남쪽에 연결된다.',\n",
       " '예외는 Porto da Barra Beach의 유일한 높은 도시 해변 인 All Saints Bay입니다.',\n",
       " 'Infer는 또한 Computation Tree Logic의 Model Checking 아이디어를 기반으로 특정 구문 트리 링잉을위한 도메인 추상화 언어를 보유하고 있습니다.',\n",
       " 'Elio Germano의 저널리스트 (Lorenzo Guadagnucci, Bologna의 가상 저널)는 Il Resto del Carlino의 기자 Luke Gualtieri입니다.',\n",
       " 'Hidalgo는 Badajoz 및 Celta de Vigo를 위해 논 세빌에서 태어났다.',\n",
       " 'Dan Barrera가 만장일치로 Saunders를 패배 시켰습니다.',\n",
       " '이 아파트는 주로 수도원들이 보통 별도의 칸에서 음식을 먹는 미팅 장소로 주로 사용됩니다.',\n",
       " '트롤리 서비스는 1892 년 볼티모어에서 엘리 콧 시티 (Ellicott City)로 제안되었으며, 1895 년 4 월 20 일에 승인되었으며 1899 년에 도입되었습니다.',\n",
       " '우주선은 Astrium \"Flexbus\"플랫폼의 첫 번째 응용 프로그램이며 GRACE가 두 번째입니다.',\n",
       " '같은 해에, 그는 미시시피 주와 일리노이 주 교구의 퀘벡 지역을 위해 비칼 총장으로 임명되었다.',\n",
       " '1966 년 National Football League 시즌은 Cleveland Browns와 팀의 17 번째 시즌이었습니다.',\n",
       " '웨슬리안 신학교는 1831 년 감리교 성공회 (Genistee College)로 설립되었습니다.',\n",
       " '워싱턴 레드 스킨스의 미식 축구 리그와 로스 앤젤레스 충전기의 내셔널 풋볼 리그에서는 미식 축구의 전 수비가 끝났습니다.',\n",
       " '지주 회사 인 기네스 월드 레코드 (Guinness World Records Ltd)는 2001 년까지 디에고가 기네스에 의해 소유했습니다.',\n",
       " '잠자기가 호출되면 다른 프로세스가 알람 루틴을 사용하여 깨어날 때까지 발신자가 차단됩니다.',\n",
       " '현재 갈리시아에서 사용되는 갈리시아어 (Galego, 갈리시아어)는 주로 브라질과 포르투갈에서 사용되는 포르투갈어와 밀접한 관련이 있습니다.',\n",
       " '그는 Shrirampur Taluka의 Vaijapur Taluka에서 입법부 (MLA) 회원으로 활동 한 후 Ahmednagar District의 Aurangabad 지구에서 정치 활동을 시작했습니다.',\n",
       " '연합국의 증인 인 마 카르 (Machar)는 프랑스 영토에서의 젊은 영국인들의 긴장에 대해 우려했다.',\n",
       " '밴드는 현재 Pipe Major David Hilder와 Drum Sergeant Gary Corkin에 의해 파이프 상사 Shaunna Hilder와 Pipe Corporal Gary Nimmo의 지원을받습니다.',\n",
       " '현재 Infogrames는 게임의 게시자가 된 Philips Media에 의해 인수되었습니다.',\n",
       " '1969 년부터 상업 팀에 참가하여 국가 대표팀에서 사용 된 마지막 버전입니다.',\n",
       " '1988 - 89 NBA 시즌은 전국 농구 협회의 43 번째 시즌이었다.',\n",
       " 'Thomas Fabbiano는 결승에서 Dudi Sela를 4 대 6, 6 대 4, 6 대 3으로 물리 치고 우승을 차지했다.',\n",
       " '몇 주 후, HumansVsZombies.org는 픽 셀 (Philippell)과의 인터뷰에서 자신의 지위를 옹호했습니다.',\n",
       " '노 틀 담 (Notre Dame)은 NBC가 매년 계약의 권리를 위해 지불 한 760 만 달러 중 절반을 받았고 상대방은 나머지 절반을 받았다.',\n",
       " 'Takanini에는 다음 학교가 있습니다 (Rosehill, Papakura, Opaheke 학교 제외) :',\n",
       " '1845 년 11 월 17 일에 Tacubaya (오늘 모렐 리아, Michoacan)에서 태어 났으며 1919 년 2 월 9 일 Valladolid에서 사망했습니다.',\n",
       " 'Kristoffer에는 Karen와 함께 8 명의 알려진 아이들이 있었다 :',\n",
       " '1903 년 7 월 1 일 Stranorlar에서 Glenties까지 Donegal Railway Company 라인을 개장했습니다.',\n",
       " '이것은 Pyhä-Luosto Finland의 가장 오래되고 가장 새로운 국립 공원을 동시에 만듭니다.',\n",
       " 'Hard Candy는 2002 년 6 월 7 일 영국과 그 다음날 미국에서 발매 된 Counting Crows의 네 번째 스튜디오 앨범입니다.',\n",
       " 'Barbara Rittner는 Marzia Grossi를 3 - 6, 7 - 5, 6-1로 격파했다.',\n",
       " 'Irfon은 Llanwrtyd Wells와 Mynydd Epynt 사이의 Builth Wells 지역의 북쪽 한계를 정의합니다.',\n",
       " '그는 포드 고리 차 (현재 티토 그라드)에서 태어나 음악가들로 자랐습니다.',\n",
       " '19 일과 20 일 티베트 자유 (Taipei Freedom) 콘서트가 Beastie Boys의 첫 대만 출연 인 도쿄와 타이페이에서 열렸습니다.',\n",
       " '갈리시아어 (Galego)에서 현재 사용되는 로맨스 언어는 브라질과 포르투갈에서 주로 사용되는 포르투갈어 언어와 밀접한 관련이 있습니다.',\n",
       " 'CBS Sports는 1968 년 미국 오픈 테니스 챔피언십 (US Open Tennis Championships)을 처음 방송했으며 Bud Collins는 Jack Kramer 옆에 액션을 불렀습니다.',\n",
       " \"``Mañana ''의 노래에서 Jimmy Buffett는``Anita Bryant가 절대로 내 노래를 만들지 않기를 바란다.\",\n",
       " '전근대 (18 세기) 요소는 종종 한국인의 동등한 발음에 대한 일본의 발음입니다.',\n",
       " '이 보고서는 비즈니스, 정치, 상업 및 노동법 개발, 기업 뉴스 및 기능에 대한 보고서를 제공합니다.',\n",
       " 'Jalajala는 정치적으로 11 개의 barangays (도시 3 곳, 농촌 8 곳)로 세분화됩니다.',\n",
       " 'k는 실제 길이의 차원을 갖는 3 개의 역수로 구성된 벡터이고, p는 연산자의 벡터이다.',\n",
       " '뉴욕 웨스트 포인트 (West Point)에서 태어난 리파 룰로 (Liparulo)는 유타 주 웨버 주립대 학교에 다녔다.',\n",
       " '그것은 Home Media와 작가, 각본과 V.Thiruselvam 감독이 제작했습니다.',\n",
       " 'Tim Tim Henman은 결승에서 Yevgeny Kafelnikov와의 경기에서 6 - 2, 7 - 6으로 승리했다.',\n",
       " 'Frederick A. de Armas는 시카고 대학의 Andrew W. Mellon 인문학 교수입니다.',\n",
       " '그는 이사회의 정회원으로 간주되어 종종 공식 Albany 상점에서 캐나다로 파견되었습니다.',\n",
       " \"``우리 학교는 시간적이며 영적이다. 재위의 사랑 (영적 진로)은 우리의 첫 번째 약속이다. ''\",\n",
       " '그녀는 6 월 24 일에 코르크에 있었고 7 월 8 일에 다운스에 도착했습니다.',\n",
       " 'John John F. A. Cecil (George와 Cornelia Stuyvesant Vanderbilt의 유일한 아이)은 1924 년 Edith Vanderbilt의 자손 인 영국 귀족 William Cecil과 결혼했습니다.',\n",
       " '네 번째 시즌은 2010 년 6 월 7 일에 초연되었습니다. 제 3의 절기 같이 경쟁의 체계는 혼합 한 쌍에 있었다.',\n",
       " '또한 로스 앤젤레스 카운티의 Palos Verdes 반도에서 포르투갈 Bend Nature Preserve의 본토 캘리포니아 해안에있는 한 곳에서 알려져 있습니다.']"
      ]
     },
     "execution_count": 16,
     "metadata": {},
     "output_type": "execute_result"
    }
   ],
   "source": [
    "all_list[-100:]"
   ]
  },
  {
   "cell_type": "code",
   "execution_count": 17,
   "metadata": {},
   "outputs": [
    {
     "data": {
      "text/plain": [
       "'Kabir Suman은 1992 년부터 1999 년까지 Suman Chattopaddhyay 또는 Suman Chatterjee라는 이름으로 여러 앨범을 녹음했습니다.'"
      ]
     },
     "execution_count": 17,
     "metadata": {},
     "output_type": "execute_result"
    }
   ],
   "source": [
    "df['sentence1'].to_list()[10]"
   ]
  },
  {
   "cell_type": "code",
   "execution_count": 18,
   "metadata": {},
   "outputs": [],
   "source": [
    "f = open('paws_corpus.txt', 'w')\n",
    "for i in all_list:\n",
    "    try:\n",
    "        f.write(i+'\\n')\n",
    "    except Exception as e:\n",
    "        print(i)\n",
    "        print(e)\n",
    "        raise e"
   ]
  },
  {
   "cell_type": "code",
   "execution_count": null,
   "metadata": {},
   "outputs": [],
   "source": []
  }
 ],
 "metadata": {
  "kernelspec": {
   "display_name": "Python 3",
   "language": "python",
   "name": "python3"
  },
  "language_info": {
   "codemirror_mode": {
    "name": "ipython",
    "version": 3
   },
   "file_extension": ".py",
   "mimetype": "text/x-python",
   "name": "python",
   "nbconvert_exporter": "python",
   "pygments_lexer": "ipython3",
   "version": "3.7.6"
  }
 },
 "nbformat": 4,
 "nbformat_minor": 4
}
